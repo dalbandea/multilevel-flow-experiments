{
 "cells": [
  {
   "cell_type": "code",
   "execution_count": 1,
   "id": "5885d260",
   "metadata": {
    "ExecuteTime": {
     "end_time": "2022-03-31T16:15:47.015476Z",
     "start_time": "2022-03-31T16:15:46.063784Z"
    }
   },
   "outputs": [],
   "source": [
    "from __future__ import annotations\n",
    "import sys\n",
    "\n",
    "sys.path.append(\"../../\")\n",
    "\n",
    "import math\n",
    "import logging\n",
    "\n",
    "import torch\n",
    "import torch.nn.functional as F\n",
    "import pytorch_lightning as pl\n",
    "\n",
    "# from jsonargparse.typing import PositiveInt, PositiveFloat, NonNegativeFloat\n",
    "\n",
    "import flows.phi_four as phi_four\n",
    "import flows.transforms as transforms\n",
    "import flows.utils as utils\n",
    "from flows.flow_hmc import *\n",
    "from flows.models import MultilevelFlow\n",
    "from flows.layers import GlobalRescalingLayer\n",
    "from flows.distributions import Prior, FreeScalarDistribution\n",
    "\n",
    "Tensor: TypeAlias = torch.Tensor\n",
    "BoolTensor: TypeAlias = torch.BoolTensor\n",
    "Module: TypeAlias = torch.nn.Module\n",
    "IterableDataset: TypeAlias = torch.utils.data.IterableDataset\n",
    "\n",
    "logging.getLogger().setLevel(\"WARNING\")\n"
   ]
  },
  {
   "cell_type": "code",
   "execution_count": 2,
   "id": "df4303aa",
   "metadata": {
    "ExecuteTime": {
     "end_time": "2022-03-31T16:15:55.179328Z",
     "start_time": "2022-03-31T16:15:55.174489Z"
    }
   },
   "outputs": [],
   "source": [
    "# Model spec\n",
    "ADDITIVE_BLOCK = {\n",
    "    \"transform\": transforms.PointwiseAdditiveTransform,\n",
    "    \"transform_spec\": {},\n",
    "    \"net_spec\": {\n",
    "        \"hidden_shape\": [4, 4],\n",
    "        \"activation\": torch.nn.Tanh(),\n",
    "        \"final_activation\": torch.nn.Identity(),\n",
    "        \"use_bias\": False,\n",
    "    },\n",
    "}\n",
    "AFFINE_BLOCK = {\n",
    "    \"transform\": transforms.PointwiseAffineTransform,\n",
    "    \"transform_spec\": {},\n",
    "    \"net_spec\": {\n",
    "        \"hidden_shape\": [4, 4, 4, 4],\n",
    "        \"activation\": torch.nn.Tanh(),\n",
    "        \"final_activation\": torch.nn.Tanh(),\n",
    "        \"use_bias\": False,\n",
    "    },\n",
    "}\n",
    "SPLINE_BLOCK = {\n",
    "    \"transform\": transforms.PointwiseRationalQuadraticSplineTransform,\n",
    "    \"transform_spec\": {\"n_segments\": 8, \"interval\": (-4, 4)},\n",
    "    \"net_spec\": {\n",
    "        \"hidden_shape\": [4],\n",
    "        \"activation\": torch.nn.Tanh(),\n",
    "        \"final_activation\": torch.nn.Identity(),\n",
    "        \"use_bias\": True,\n",
    "    },\n",
    "}\n"
   ]
  },
  {
   "cell_type": "code",
   "execution_count": 4,
   "id": "c6416cfd",
   "metadata": {
    "ExecuteTime": {
     "end_time": "2022-03-31T16:16:13.569068Z",
     "start_time": "2022-03-31T16:16:13.540954Z"
    }
   },
   "outputs": [],
   "source": [
    "# Target theory\n",
    "LATTICE_LENGTH = 8\n",
    "BETA = 0.7\n",
    "LAM = 0.5\n",
    "\n",
    "MODEL_SPEC = [\n",
    "    AFFINE_BLOCK,\n",
    "    AFFINE_BLOCK,\n",
    "    \"rescaling\",\n",
    "]\n",
    "\n",
    "N_TRAIN = 10\n",
    "N_BATCH = 1000\n",
    "N_BATCH_VAL = 1000\n",
    "\n",
    "model = MultilevelFlow(\n",
    "    beta=BETA,\n",
    "    lam=LAM,\n",
    "    model_spec=MODEL_SPEC,\n",
    ")\n"
   ]
  },
  {
   "cell_type": "code",
   "execution_count": 5,
   "id": "1cf9acfc",
   "metadata": {
    "ExecuteTime": {
     "end_time": "2022-03-31T16:16:15.744768Z",
     "start_time": "2022-03-31T16:16:14.143586Z"
    }
   },
   "outputs": [
    {
     "name": "stderr",
     "output_type": "stream",
     "text": [
      "GPU available: True, used: False\n",
      "TPU available: False, using: 0 TPU cores\n",
      "IPU available: False, using: 0 IPUs\n",
      "HPU available: False, using: 0 HPUs\n",
      "/home/david/miniconda3/envs/eflow/lib/python3.9/site-packages/pytorch_lightning/trainer/trainer.py:1823: PossibleUserWarning: GPU available but not used. Set `accelerator` and `devices` using `Trainer(accelerator='gpu', devices=1)`.\n",
      "  rank_zero_warn(\n",
      "`Trainer(limit_val_batches=1)` was configured so 1 batch will be used.\n",
      "\n",
      "  | Name             | Type            | Params\n",
      "-----------------------------------------------------\n",
      "0 | flow             | Flow            | 2.2 K \n",
      "1 | upsampling_layer | UpsamplingLayer | 0     \n",
      "-----------------------------------------------------\n",
      "2.2 K     Trainable params\n",
      "0         Non-trainable params\n",
      "2.2 K     Total params\n",
      "0.009     Total estimated model params size (MB)\n"
     ]
    },
    {
     "name": "stdout",
     "output_type": "stream",
     "text": [
      "────────────────────────────────────────────────────────────────────────────────────────────────────────────────────────\n",
      "     Validate metric           DataLoader 0\n",
      "────────────────────────────────────────────────────────────────────────────────────────────────────────────────────────\n",
      "       acceptance           0.01001000963151455\n",
      "          loss              -11.101160049438477\n",
      "────────────────────────────────────────────────────────────────────────────────────────────────────────────────────────\n"
     ]
    },
    {
     "data": {
      "application/vnd.jupyter.widget-view+json": {
       "model_id": "716e974e651d4c14945bcc5bdbab4d68",
       "version_major": 2,
       "version_minor": 0
      },
      "text/plain": [
       "Sanity Checking: 0it [00:00, ?it/s]"
      ]
     },
     "metadata": {},
     "output_type": "display_data"
    },
    {
     "data": {
      "application/vnd.jupyter.widget-view+json": {
       "model_id": "31dd6e0eb11f4ad3a74802d85707aa9c",
       "version_major": 2,
       "version_minor": 0
      },
      "text/plain": [
       "Training: 0it [00:00, ?it/s]"
      ]
     },
     "metadata": {},
     "output_type": "display_data"
    }
   ],
   "source": [
    "dist = torch.distributions.Normal(\n",
    "    loc=torch.zeros((LATTICE_LENGTH, LATTICE_LENGTH)),\n",
    "    scale=torch.ones((LATTICE_LENGTH, LATTICE_LENGTH)),\n",
    ")\n",
    "# dist = FreeScalarDistribution(LATTICE_LENGTH, M_SQ)\n",
    "train_dataloader = Prior(dist, sample_shape=[N_BATCH, 1])\n",
    "val_dataloader = Prior(dist, sample_shape=[N_BATCH_VAL, 1])\n",
    "\n",
    "pbar = utils.JlabProgBar()\n",
    "lr_monitor = pl.callbacks.LearningRateMonitor(logging_interval=\"step\")\n",
    "\n",
    "trainer = pl.Trainer(\n",
    "    gpus=0,\n",
    "    max_steps=N_TRAIN,  # total number of training steps\n",
    "    val_check_interval=100,  # how often to run sampling\n",
    "    limit_val_batches=1,  # one batch for each val step\n",
    "    callbacks=[pbar, lr_monitor],\n",
    "    enable_checkpointing=False,  # manually saving checkpoints\n",
    ")\n",
    "\n",
    "trainer.validate(model, val_dataloader)\n",
    "\n",
    "trainer.fit(model, train_dataloader, val_dataloader)\n"
   ]
  },
  {
   "cell_type": "code",
   "execution_count": 6,
   "id": "215d7b58",
   "metadata": {
    "ExecuteTime": {
     "end_time": "2022-03-31T16:16:21.845295Z",
     "start_time": "2022-03-31T16:16:21.839755Z"
    }
   },
   "outputs": [],
   "source": [
    "val_dataloader = Prior(dist, sample_shape=[1, 1])\n",
    "batch = val_dataloader.sample()\n"
   ]
  },
  {
   "cell_type": "code",
   "execution_count": 29,
   "id": "cc18cdaa",
   "metadata": {
    "ExecuteTime": {
     "end_time": "2022-03-31T15:39:33.132302Z",
     "start_time": "2022-03-31T15:39:33.118865Z"
    }
   },
   "outputs": [
    {
     "data": {
      "text/plain": [
       "tensor(1.5671e-12, grad_fn=<SumBackward0>)"
      ]
     },
     "execution_count": 29,
     "metadata": {},
     "output_type": "execute_result"
    }
   ],
   "source": [
    "batch_cp = apply_reverse_flow_to_fields(torch.clone(batch).detach(), model)[0]\n",
    "batch_cp = apply_flow_to_fields(batch_cp, model)[0]\n",
    "\n",
    "# batch_cp, trash = model.flow.inverse(batch)\n",
    "# batch_cp, trash = model.flow(batch_cp)\n",
    "\n",
    "((batch_cp - batch)**2).sum()"
   ]
  },
  {
   "cell_type": "code",
   "execution_count": 12,
   "id": "e8e93bb0",
   "metadata": {
    "ExecuteTime": {
     "end_time": "2022-03-31T16:16:29.676699Z",
     "start_time": "2022-03-31T16:16:29.650416Z"
    }
   },
   "outputs": [],
   "source": [
    "batch_cp, trash = model.flow.inverse(batch)"
   ]
  },
  {
   "cell_type": "code",
   "execution_count": 13,
   "id": "afce72e5",
   "metadata": {
    "ExecuteTime": {
     "end_time": "2022-03-31T16:16:29.814974Z",
     "start_time": "2022-03-31T16:16:29.800490Z"
    }
   },
   "outputs": [
    {
     "data": {
      "text/plain": [
       "tensor([[[[-1.4253,  0.0672, -1.5074, -1.4993, -0.5472, -2.5435, -1.5111,\n",
       "           -0.1945],\n",
       "          [ 0.3814,  0.5978, -0.2750, -0.4200,  0.4945, -0.5013,  0.0804,\n",
       "            0.3819],\n",
       "          [-0.0602, -1.3316,  0.9656,  1.5211, -1.8475, -1.4497, -1.5704,\n",
       "           -0.5208],\n",
       "          [-1.9197,  0.9528,  0.1118, -0.6883,  1.1194, -0.3986,  1.3732,\n",
       "           -1.0705],\n",
       "          [ 2.0687, -0.0036, -0.1874, -2.4672, -1.0532, -0.8711, -0.0351,\n",
       "            0.0109],\n",
       "          [-1.0594, -1.6358,  3.1215, -1.0083,  0.1539,  1.2647, -0.4479,\n",
       "            0.0131],\n",
       "          [ 1.2747, -0.8006,  1.4830, -0.6272, -1.0876,  1.8610, -1.8756,\n",
       "           -0.2722],\n",
       "          [ 0.6857,  1.0311,  1.3519,  0.4791,  0.3655,  0.3717,  0.6464,\n",
       "            0.6266]]]])"
      ]
     },
     "execution_count": 13,
     "metadata": {},
     "output_type": "execute_result"
    }
   ],
   "source": [
    "batch"
   ]
  },
  {
   "cell_type": "code",
   "execution_count": 54,
   "id": "6a14a51e",
   "metadata": {
    "ExecuteTime": {
     "end_time": "2022-03-31T16:05:01.927751Z",
     "start_time": "2022-03-31T16:05:01.918312Z"
    }
   },
   "outputs": [
    {
     "data": {
      "text/plain": [
       "2.3187704"
      ]
     },
     "execution_count": 54,
     "metadata": {},
     "output_type": "execute_result"
    }
   ],
   "source": [
    "2.2460*1.0324"
   ]
  },
  {
   "cell_type": "code",
   "execution_count": null,
   "id": "90780c8a",
   "metadata": {},
   "outputs": [],
   "source": []
  }
 ],
 "metadata": {
  "kernelspec": {
   "display_name": "Python 3 (ipykernel)",
   "language": "python",
   "name": "python3"
  },
  "language_info": {
   "codemirror_mode": {
    "name": "ipython",
    "version": 3
   },
   "file_extension": ".py",
   "mimetype": "text/x-python",
   "name": "python",
   "nbconvert_exporter": "python",
   "pygments_lexer": "ipython3",
   "version": "3.9.6"
  },
  "toc": {
   "base_numbering": 1,
   "nav_menu": {},
   "number_sections": true,
   "sideBar": true,
   "skip_h1_title": false,
   "title_cell": "Table of Contents",
   "title_sidebar": "Contents",
   "toc_cell": false,
   "toc_position": {},
   "toc_section_display": true,
   "toc_window_display": false
  }
 },
 "nbformat": 4,
 "nbformat_minor": 5
}
